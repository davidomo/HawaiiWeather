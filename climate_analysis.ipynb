{
 "cells": [
  {
   "cell_type": "code",
   "execution_count": 1,
   "metadata": {
    "collapsed": true
   },
   "outputs": [],
   "source": [
    "import pandas as pd\n",
    "import pandas as pd\n",
    "\n",
    "import sqlalchemy\n",
    "from sqlalchemy.ext.automap import automap_base\n",
    "from sqlalchemy.orm import Session\n",
    "from sqlalchemy import create_engine, func"
   ]
  },
  {
   "cell_type": "code",
   "execution_count": 2,
   "metadata": {
    "collapsed": true
   },
   "outputs": [],
   "source": [
    "engine = create_engine(\"sqlite:///hawaii.sqlite\", echo=False)"
   ]
  },
  {
   "cell_type": "code",
   "execution_count": 3,
   "metadata": {},
   "outputs": [
    {
     "data": {
      "text/plain": [
       "['Measurements', 'Stations']"
      ]
     },
     "execution_count": 3,
     "metadata": {},
     "output_type": "execute_result"
    }
   ],
   "source": [
    "Base = automap_base()\n",
    "Base.prepare(engine, reflect=True)\n",
    "Base.classes.keys()"
   ]
  },
  {
   "cell_type": "code",
   "execution_count": 4,
   "metadata": {
    "collapsed": true
   },
   "outputs": [],
   "source": [
    "Measurement = Base.classes.Measurements\n",
    "Station = Base.classes.Stations"
   ]
  },
  {
   "cell_type": "code",
   "execution_count": 5,
   "metadata": {
    "collapsed": true
   },
   "outputs": [],
   "source": [
    "session = Session(engine)"
   ]
  },
  {
   "cell_type": "markdown",
   "metadata": {},
   "source": [
    "-- Query 1: Precipitation"
   ]
  },
  {
   "cell_type": "code",
   "execution_count": 6,
   "metadata": {
    "collapsed": true
   },
   "outputs": [],
   "source": [
    "# Find the last year's precipitation data\n",
    "query = session.query(Measurement.date, func.sum(Measurement.prcp)).group_by(Measurement.date).\\\n",
    "    order_by(Measurement.id.desc()).limit(365).all()"
   ]
  },
  {
   "cell_type": "code",
   "execution_count": 7,
   "metadata": {},
   "outputs": [
    {
     "data": {
      "text/html": [
       "<div>\n",
       "<style>\n",
       "    .dataframe thead tr:only-child th {\n",
       "        text-align: right;\n",
       "    }\n",
       "\n",
       "    .dataframe thead th {\n",
       "        text-align: left;\n",
       "    }\n",
       "\n",
       "    .dataframe tbody tr th {\n",
       "        vertical-align: top;\n",
       "    }\n",
       "</style>\n",
       "<table border=\"1\" class=\"dataframe\">\n",
       "  <thead>\n",
       "    <tr style=\"text-align: right;\">\n",
       "      <th></th>\n",
       "      <th>Date</th>\n",
       "      <th>Precipitation</th>\n",
       "    </tr>\n",
       "  </thead>\n",
       "  <tbody>\n",
       "    <tr>\n",
       "      <th>0</th>\n",
       "      <td>2016-07-10</td>\n",
       "      <td>2.43</td>\n",
       "    </tr>\n",
       "    <tr>\n",
       "      <th>1</th>\n",
       "      <td>2016-07-11</td>\n",
       "      <td>0.43</td>\n",
       "    </tr>\n",
       "    <tr>\n",
       "      <th>2</th>\n",
       "      <td>2016-07-12</td>\n",
       "      <td>0.11</td>\n",
       "    </tr>\n",
       "    <tr>\n",
       "      <th>3</th>\n",
       "      <td>2016-07-13</td>\n",
       "      <td>0.32</td>\n",
       "    </tr>\n",
       "    <tr>\n",
       "      <th>4</th>\n",
       "      <td>2016-07-14</td>\n",
       "      <td>2.76</td>\n",
       "    </tr>\n",
       "  </tbody>\n",
       "</table>\n",
       "</div>"
      ],
      "text/plain": [
       "         Date  Precipitation\n",
       "0  2016-07-10           2.43\n",
       "1  2016-07-11           0.43\n",
       "2  2016-07-12           0.11\n",
       "3  2016-07-13           0.32\n",
       "4  2016-07-14           2.76"
      ]
     },
     "execution_count": 7,
     "metadata": {},
     "output_type": "execute_result"
    }
   ],
   "source": [
    "# Convert query into a DF and invert the dates\n",
    "precip = pd.DataFrame(query, columns=['Date', 'Precipitation'])\n",
    "precip = precip.sort_index(ascending=False)\n",
    "precip = precip.reset_index()\n",
    "precip = precip.drop(\"index\", 1)\n",
    "precip.head()"
   ]
  },
  {
   "cell_type": "code",
   "execution_count": 8,
   "metadata": {
    "collapsed": true
   },
   "outputs": [],
   "source": [
    "# Import for charts\n",
    "import matplotlib.pyplot as plt\n",
    "import numpy as np"
   ]
  },
  {
   "cell_type": "code",
   "execution_count": 9,
   "metadata": {},
   "outputs": [
    {
     "data": {
      "text/plain": [
       "['2016-07-10',\n",
       " '2016-09-07',\n",
       " '2016-10-27',\n",
       " '2016-12-21',\n",
       " '2017-02-11',\n",
       " '2017-04-12',\n",
       " '2017-06-12',\n",
       " '2017-08-02']"
      ]
     },
     "execution_count": 9,
     "metadata": {},
     "output_type": "execute_result"
    }
   ],
   "source": [
    "# Find label names for every 50 days to plot at reference for graph\n",
    "ticks = np.arange(0, 400, 50)\n",
    "ticks = ticks.tolist()\n",
    "ticks\n",
    "\n",
    "date_tick = []\n",
    "for x in ticks:\n",
    "    date = precip[\"Date\"][x]\n",
    "    date_tick.append(date)\n",
    "    \n",
    "date_tick"
   ]
  },
  {
   "cell_type": "code",
   "execution_count": 10,
   "metadata": {
    "collapsed": true
   },
   "outputs": [],
   "source": [
    "# Reset DF index\n",
    "precip = precip.set_index('Date')"
   ]
  },
  {
   "cell_type": "code",
   "execution_count": 11,
   "metadata": {
    "scrolled": false
   },
   "outputs": [
    {
     "data": {
      "image/png": "[encoded data removed]",
      "text/plain": [
       "<matplotlib.figure.Figure at 0x2bfce75cc18>"
      ]
     },
     "metadata": {},
     "output_type": "display_data"
    }
   ],
   "source": [
    "# Plot the DF\n",
    "precip.plot(kind=\"bar\", figsize=(20,8))\n",
    "plt.xticks(ticks, date_tick, rotation=45)\n",
    "plt.title(\"Precipitation by Day\")\n",
    "plt.ylabel(\"Precipitation (Inches)\")\n",
    "plt.savefig(\"Figures/Precipitation_by_day\")\n",
    "plt.show()"
   ]
  },
  {
   "cell_type": "code",
   "execution_count": 12,
   "metadata": {
    "collapsed": true
   },
   "outputs": [],
   "source": [
    "# Write the DF to a CSV for later use\n",
    "precip.to_csv(\"Resources/PrecipDF.csv\")"
   ]
  },
  {
   "cell_type": "markdown",
   "metadata": {},
   "source": [
    "-- Query 2: Stations"
   ]
  },
  {
   "cell_type": "code",
   "execution_count": 13,
   "metadata": {},
   "outputs": [
    {
     "data": {
      "text/plain": [
       "[(9)]"
      ]
     },
     "execution_count": 13,
     "metadata": {},
     "output_type": "execute_result"
    }
   ],
   "source": [
    "# Number of Stations\n",
    "Station_Count = session.query(func.count(Station.id)).all()\n",
    "Station_Count"
   ]
  },
  {
   "cell_type": "code",
   "execution_count": 14,
   "metadata": {},
   "outputs": [
    {
     "data": {
      "text/plain": [
       "[('USC00519281', 'WAIHEE 837.5, HI US', 2772),\n",
       " ('USC00513117', 'KANEOHE 838.1, HI US', 2696),\n",
       " ('USC00519397', 'WAIKIKI 717.2, HI US', 2685),\n",
       " ('USC00519523', 'WAIMANALO EXPERIMENTAL FARM, HI US', 2572),\n",
       " ('USC00516128', 'MANOA LYON ARBO 785.2, HI US', 2484),\n",
       " ('USC00514830', 'KUALOA RANCH HEADQUARTERS 886.9, HI US', 1937),\n",
       " ('USC00511918', 'HONOLULU OBSERVATORY 702.2, HI US', 1932),\n",
       " ('USC00517948', 'PEARL CITY, HI US', 683),\n",
       " ('USC00518838', 'UPPER WAHIAWA 874.3, HI US', 342)]"
      ]
     },
     "execution_count": 14,
     "metadata": {},
     "output_type": "execute_result"
    }
   ],
   "source": [
    "# Station Activity\n",
    "Station_Activity = session.query(Station.station, Station.name, func.count(Measurement.date)). \\\n",
    "    filter(Station.station == Measurement.station).\\\n",
    "    group_by(Station.name).order_by(func.count(Measurement.date).desc()).all()\n",
    "\n",
    "Station_Activity"
   ]
  },
  {
   "cell_type": "code",
   "execution_count": 15,
   "metadata": {},
   "outputs": [
    {
     "data": {
      "text/plain": [
       "[('2017-08-18', 79),\n",
       " ('2017-08-17', 76),\n",
       " ('2017-08-16', 76),\n",
       " ('2017-08-15', 77),\n",
       " ('2017-08-14', 77),\n",
       " ('2017-08-13', 77),\n",
       " ('2017-08-06', 83),\n",
       " ('2017-08-05', 82),\n",
       " ('2017-08-04', 77),\n",
       " ('2017-07-31', 76),\n",
       " ('2017-07-30', 81),\n",
       " ('2017-07-29', 82),\n",
       " ('2017-07-28', 81),\n",
       " ('2017-07-27', 76),\n",
       " ('2017-07-26', 75),\n",
       " ('2017-07-25', 77),\n",
       " ('2017-07-24', 75),\n",
       " ('2017-07-23', 82),\n",
       " ('2017-07-22', 77),\n",
       " ('2017-07-21', 77),\n",
       " ('2017-07-20', 77),\n",
       " ('2017-07-19', 76),\n",
       " ('2017-07-18', 76),\n",
       " ('2017-07-17', 76),\n",
       " ('2017-07-16', 80),\n",
       " ('2017-07-15', 80),\n",
       " ('2017-07-14', 76),\n",
       " ('2017-07-13', 74),\n",
       " ('2017-07-12', 74),\n",
       " ('2017-07-11', 72),\n",
       " ('2017-07-10', 69),\n",
       " ('2017-07-09', 78),\n",
       " ('2017-07-08', 78),\n",
       " ('2017-07-07', 75),\n",
       " ('2017-07-06', 74),\n",
       " ('2017-07-05', 77),\n",
       " ('2017-07-04', 78),\n",
       " ('2017-07-03', 76),\n",
       " ('2017-07-02', 81),\n",
       " ('2017-07-01', 79),\n",
       " ('2017-06-30', 76),\n",
       " ('2017-06-29', 76),\n",
       " ('2017-06-28', 77),\n",
       " ('2017-06-27', 76),\n",
       " ('2017-06-26', 73),\n",
       " ('2017-06-25', 71),\n",
       " ('2017-06-24', 77),\n",
       " ('2017-06-23', 72),\n",
       " ('2017-06-22', 72),\n",
       " ('2017-06-21', 74),\n",
       " ('2017-06-20', 72),\n",
       " ('2017-06-19', 72),\n",
       " ('2017-06-18', 75),\n",
       " ('2017-06-17', 79),\n",
       " ('2017-06-16', 73),\n",
       " ('2017-06-15', 75),\n",
       " ('2017-06-14', 74),\n",
       " ('2017-06-13', 76),\n",
       " ('2017-06-12', 74),\n",
       " ('2017-06-11', 74),\n",
       " ('2017-06-10', 74),\n",
       " ('2017-06-09', 72),\n",
       " ('2017-06-08', 75),\n",
       " ('2017-06-07', 75),\n",
       " ('2017-06-06', 75),\n",
       " ('2017-06-05', 75),\n",
       " ('2017-06-04', 77),\n",
       " ('2017-06-03', 76),\n",
       " ('2017-06-02', 76),\n",
       " ('2017-06-01', 80),\n",
       " ('2017-05-31', 75),\n",
       " ('2017-05-30', 72),\n",
       " ('2017-05-29', 74),\n",
       " ('2017-05-28', 80),\n",
       " ('2017-05-27', 74),\n",
       " ('2017-05-26', 74),\n",
       " ('2017-05-25', 74),\n",
       " ('2017-05-24', 74),\n",
       " ('2017-05-23', 71),\n",
       " ('2017-05-22', 71),\n",
       " ('2017-05-21', 74),\n",
       " ('2017-05-20', 76),\n",
       " ('2017-05-19', 68),\n",
       " ('2017-05-18', 69),\n",
       " ('2017-05-17', 74),\n",
       " ('2017-05-16', 74),\n",
       " ('2017-05-15', 74),\n",
       " ('2017-05-14', 77),\n",
       " ('2017-05-13', 76),\n",
       " ('2017-05-12', 75),\n",
       " ('2017-05-11', 70),\n",
       " ('2017-05-10', 74),\n",
       " ('2017-05-09', 67),\n",
       " ('2017-05-08', 70),\n",
       " ('2017-05-07', 75),\n",
       " ('2017-05-06', 79),\n",
       " ('2017-05-05', 70),\n",
       " ('2017-05-04', 75),\n",
       " ('2017-05-03', 70),\n",
       " ('2017-05-02', 75),\n",
       " ('2017-05-01', 65),\n",
       " ('2017-04-30', 60),\n",
       " ('2017-04-29', 72),\n",
       " ('2017-04-28', 67),\n",
       " ('2017-04-27', 70),\n",
       " ('2017-04-26', 74),\n",
       " ('2017-04-25', 72),\n",
       " ('2017-04-24', 68),\n",
       " ('2017-04-23', 76),\n",
       " ('2017-04-22', 72),\n",
       " ('2017-04-21', 69),\n",
       " ('2017-04-20', 76),\n",
       " ('2017-04-19', 67),\n",
       " ('2017-04-18', 68),\n",
       " ('2017-04-17', 67),\n",
       " ('2017-04-16', 71),\n",
       " ('2017-04-15', 78),\n",
       " ('2017-04-14', 74),\n",
       " ('2017-04-13', 69),\n",
       " ('2017-04-12', 69),\n",
       " ('2017-04-11', 70),\n",
       " ('2017-04-10', 67),\n",
       " ('2017-04-09', 78),\n",
       " ('2017-04-08', 77),\n",
       " ('2017-04-07', 74),\n",
       " ('2017-04-06', 67),\n",
       " ('2017-04-05', 71),\n",
       " ('2017-04-04', 67),\n",
       " ('2017-04-03', 70),\n",
       " ('2017-04-02', 75),\n",
       " ('2017-04-01', 74),\n",
       " ('2017-03-31', 71),\n",
       " ('2017-03-30', 73),\n",
       " ('2017-03-29', 68),\n",
       " ('2017-03-28', 74),\n",
       " ('2017-03-27', 76),\n",
       " ('2017-03-26', 77),\n",
       " ('2017-03-25', 76),\n",
       " ('2017-03-24', 71),\n",
       " ('2017-03-23', 72),\n",
       " ('2017-03-22', 73),\n",
       " ('2017-03-21', 72),\n",
       " ('2017-03-20', 69),\n",
       " ('2017-03-19', 74),\n",
       " ('2017-03-18', 65),\n",
       " ('2017-03-17', 68),\n",
       " ('2017-03-16', 66),\n",
       " ('2017-03-15', 69),\n",
       " ('2017-03-14', 67),\n",
       " ('2017-03-13', 66),\n",
       " ('2017-03-12', 69),\n",
       " ('2017-03-11', 81),\n",
       " ('2017-03-10', 66),\n",
       " ('2017-03-09', 67),\n",
       " ('2017-03-08', 64),\n",
       " ('2017-03-07', 62),\n",
       " ('2017-03-06', 67),\n",
       " ('2017-03-05', 73),\n",
       " ('2017-03-04', 77),\n",
       " ('2017-03-03', 72),\n",
       " ('2017-03-02', 73),\n",
       " ('2017-03-01', 71),\n",
       " ('2017-02-28', 72),\n",
       " ('2017-02-27', 65),\n",
       " ('2017-02-26', 67),\n",
       " ('2017-02-25', 61),\n",
       " ('2017-02-24', 69),\n",
       " ('2017-02-23', 71),\n",
       " ('2017-02-22', 71),\n",
       " ('2017-02-21', 71),\n",
       " ('2017-02-20', 70),\n",
       " ('2017-02-19', 70),\n",
       " ('2017-02-18', 74),\n",
       " ('2017-02-17', 70),\n",
       " ('2017-02-16', 65),\n",
       " ('2017-02-15', 75),\n",
       " ('2017-02-14', 79),\n",
       " ('2017-02-13', 73),\n",
       " ('2017-02-12', 70),\n",
       " ('2017-02-11', 68),\n",
       " ('2017-02-10', 62),\n",
       " ('2017-02-09', 59),\n",
       " ('2017-02-08', 59),\n",
       " ('2017-02-07', 64),\n",
       " ('2017-02-06', 75),\n",
       " ('2017-02-05', 73),\n",
       " ('2017-02-04', 70),\n",
       " ('2017-02-03', 60),\n",
       " ('2017-02-02', 59),\n",
       " ('2017-02-01', 68),\n",
       " ('2017-01-31', 68),\n",
       " ('2017-01-30', 68),\n",
       " ('2017-01-29', 69),\n",
       " ('2017-01-28', 65),\n",
       " ('2017-01-27', 66),\n",
       " ('2017-01-26', 70),\n",
       " ('2017-01-25', 69),\n",
       " ('2017-01-24', 72),\n",
       " ('2017-01-23', 72),\n",
       " ('2017-01-22', 71),\n",
       " ('2017-01-21', 71),\n",
       " ('2017-01-20', 69),\n",
       " ('2017-01-19', 71),\n",
       " ('2017-01-18', 72),\n",
       " ('2017-01-17', 69),\n",
       " ('2017-01-16', 74),\n",
       " ('2017-01-15', 70),\n",
       " ('2017-01-14', 77),\n",
       " ('2017-01-13', 69),\n",
       " ('2017-01-12', 65),\n",
       " ('2017-01-11', 63),\n",
       " ('2017-01-10', 62),\n",
       " ('2017-01-09', 62),\n",
       " ('2017-01-08', 70),\n",
       " ('2017-01-07', 70),\n",
       " ('2017-01-06', 62),\n",
       " ('2017-01-05', 63),\n",
       " ('2017-01-04', 63),\n",
       " ('2017-01-03', 64),\n",
       " ('2017-01-02', 70),\n",
       " ('2017-01-01', 72),\n",
       " ('2016-12-31', 67),\n",
       " ('2016-12-30', 69),\n",
       " ('2016-12-29', 74),\n",
       " ('2016-12-28', 72),\n",
       " ('2016-12-27', 71),\n",
       " ('2016-12-26', 72),\n",
       " ('2016-12-25', 74),\n",
       " ('2016-12-24', 74),\n",
       " ('2016-12-23', 71),\n",
       " ('2016-12-22', 73),\n",
       " ('2016-12-21', 74),\n",
       " ('2016-12-20', 76),\n",
       " ('2016-12-19', 76),\n",
       " ('2016-12-18', 69),\n",
       " ('2016-12-17', 70),\n",
       " ('2016-12-16', 75),\n",
       " ('2016-12-15', 62),\n",
       " ('2016-12-14', 68),\n",
       " ('2016-12-13', 65),\n",
       " ('2016-12-12', 66),\n",
       " ('2016-12-11', 69),\n",
       " ('2016-12-10', 69),\n",
       " ('2016-12-09', 68),\n",
       " ('2016-12-08', 70),\n",
       " ('2016-12-07', 69),\n",
       " ('2016-12-06', 67),\n",
       " ('2016-12-05', 67),\n",
       " ('2016-12-04', 70),\n",
       " ('2016-12-03', 72),\n",
       " ('2016-12-02', 70),\n",
       " ('2016-12-01', 74),\n",
       " ('2016-11-30', 73),\n",
       " ('2016-11-29', 73),\n",
       " ('2016-11-28', 75),\n",
       " ('2016-11-27', 73),\n",
       " ('2016-11-26', 75),\n",
       " ('2016-11-25', 74),\n",
       " ('2016-11-24', 75),\n",
       " ('2016-11-23', 74),\n",
       " ('2016-11-22', 75),\n",
       " ('2016-11-21', 73),\n",
       " ('2016-11-20', 75),\n",
       " ('2016-11-19', 73),\n",
       " ('2016-11-18', 75),\n",
       " ('2016-11-17', 76),\n",
       " ('2016-11-16', 75),\n",
       " ('2016-11-15', 76),\n",
       " ('2016-11-14', 76),\n",
       " ('2016-11-13', 77),\n",
       " ('2016-11-12', 74),\n",
       " ('2016-11-11', 77),\n",
       " ('2016-11-10', 67),\n",
       " ('2016-11-09', 68),\n",
       " ('2016-11-08', 70),\n",
       " ('2016-11-07', 63),\n",
       " ('2016-11-06', 71),\n",
       " ('2016-11-05', 75),\n",
       " ('2016-11-04', 75),\n",
       " ('2016-11-03', 75),\n",
       " ('2016-11-02', 75),\n",
       " ('2016-11-01', 74),\n",
       " ('2016-10-31', 76),\n",
       " ('2016-10-30', 76),\n",
       " ('2016-10-29', 77),\n",
       " ('2016-10-28', 74),\n",
       " ('2016-10-27', 76),\n",
       " ('2016-10-26', 73),\n",
       " ('2016-10-25', 76),\n",
       " ('2016-10-24', 75),\n",
       " ('2016-10-23', 74),\n",
       " ('2016-10-22', 77),\n",
       " ('2016-10-21', 78),\n",
       " ('2016-10-20', 78),\n",
       " ('2016-10-19', 78),\n",
       " ('2016-10-18', 78),\n",
       " ('2016-10-17', 77),\n",
       " ('2016-10-16', 79),\n",
       " ('2016-10-15', 77),\n",
       " ('2016-10-14', 79),\n",
       " ('2016-10-13', 78),\n",
       " ('2016-10-12', 79),\n",
       " ('2016-10-11', 77),\n",
       " ('2016-10-10', 71),\n",
       " ('2016-10-09', 72),\n",
       " ('2016-10-08', 73),\n",
       " ('2016-10-07', 76),\n",
       " ('2016-10-06', 75),\n",
       " ('2016-10-05', 79),\n",
       " ('2016-10-04', 79),\n",
       " ('2016-10-03', 79),\n",
       " ('2016-10-02', 79),\n",
       " ('2016-10-01', 77),\n",
       " ('2016-09-30', 78),\n",
       " ('2016-09-29', 78),\n",
       " ('2016-09-28', 78),\n",
       " ('2016-09-27', 80),\n",
       " ('2016-09-26', 77),\n",
       " ('2016-09-25', 79),\n",
       " ('2016-09-24', 79),\n",
       " ('2016-09-23', 78),\n",
       " ('2016-09-22', 77),\n",
       " ('2016-09-21', 74),\n",
       " ('2016-09-20', 76),\n",
       " ('2016-09-19', 78),\n",
       " ('2016-09-18', 78),\n",
       " ('2016-09-17', 79),\n",
       " ('2016-09-16', 78),\n",
       " ('2016-09-15', 79),\n",
       " ('2016-09-14', 75),\n",
       " ('2016-09-13', 79),\n",
       " ('2016-09-12', 76),\n",
       " ('2016-09-11', 80),\n",
       " ('2016-09-10', 77),\n",
       " ('2016-09-09', 79),\n",
       " ('2016-09-08', 80),\n",
       " ('2016-09-07', 74),\n",
       " ('2016-09-06', 73),\n",
       " ('2016-09-05', 78),\n",
       " ('2016-09-04', 78),\n",
       " ('2016-09-03', 78),\n",
       " ('2016-09-02', 80),\n",
       " ('2016-09-01', 80),\n",
       " ('2016-08-31', 78),\n",
       " ('2016-08-30', 77),\n",
       " ('2016-08-29', 78),\n",
       " ('2016-08-28', 73),\n",
       " ('2016-08-27', 75),\n",
       " ('2016-08-26', 80),\n",
       " ('2016-08-25', 80),\n",
       " ('2016-08-24', 77),\n",
       " ('2016-08-23', 77),\n",
       " ('2016-08-22', 78),\n",
       " ('2016-08-21', 79),\n",
       " ('2016-08-20', 81),\n",
       " ('2016-08-19', 79),\n",
       " ('2016-08-18', 80),\n",
       " ('2016-08-17', 82),\n",
       " ('2016-08-16', 74),\n",
       " ('2016-08-15', 75),\n",
       " ('2016-08-14', 76),\n",
       " ('2016-08-13', 80),\n",
       " ('2016-08-12', 76),\n",
       " ('2016-08-11', 80),\n",
       " ('2016-08-10', 82)]"
      ]
     },
     "execution_count": 15,
     "metadata": {},
     "output_type": "execute_result"
    }
   ],
   "source": [
    "highest = \"USC00519281\"\n",
    "\n",
    "high_tobs = session.query(Measurement.date, Measurement.tobs).order_by(Measurement.id.desc()). \\\n",
    "    filter(Measurement.station == highest).limit(365).all()\n",
    "    \n",
    "high_tobs"
   ]
  },
  {
   "cell_type": "code",
   "execution_count": 16,
   "metadata": {},
   "outputs": [
    {
     "data": {
      "text/html": [
       "<div>\n",
       "<style>\n",
       "    .dataframe thead tr:only-child th {\n",
       "        text-align: right;\n",
       "    }\n",
       "\n",
       "    .dataframe thead th {\n",
       "        text-align: left;\n",
       "    }\n",
       "\n",
       "    .dataframe tbody tr th {\n",
       "        vertical-align: top;\n",
       "    }\n",
       "</style>\n",
       "<table border=\"1\" class=\"dataframe\">\n",
       "  <thead>\n",
       "    <tr style=\"text-align: right;\">\n",
       "      <th></th>\n",
       "      <th>Date</th>\n",
       "      <th>Temp Obs</th>\n",
       "    </tr>\n",
       "  </thead>\n",
       "  <tbody>\n",
       "    <tr>\n",
       "      <th>0</th>\n",
       "      <td>2017-08-18</td>\n",
       "      <td>79</td>\n",
       "    </tr>\n",
       "    <tr>\n",
       "      <th>1</th>\n",
       "      <td>2017-08-17</td>\n",
       "      <td>76</td>\n",
       "    </tr>\n",
       "    <tr>\n",
       "      <th>2</th>\n",
       "      <td>2017-08-16</td>\n",
       "      <td>76</td>\n",
       "    </tr>\n",
       "    <tr>\n",
       "      <th>3</th>\n",
       "      <td>2017-08-15</td>\n",
       "      <td>77</td>\n",
       "    </tr>\n",
       "    <tr>\n",
       "      <th>4</th>\n",
       "      <td>2017-08-14</td>\n",
       "      <td>77</td>\n",
       "    </tr>\n",
       "  </tbody>\n",
       "</table>\n",
       "</div>"
      ],
      "text/plain": [
       "         Date  Temp Obs\n",
       "0  2017-08-18        79\n",
       "1  2017-08-17        76\n",
       "2  2017-08-16        76\n",
       "3  2017-08-15        77\n",
       "4  2017-08-14        77"
      ]
     },
     "execution_count": 16,
     "metadata": {},
     "output_type": "execute_result"
    }
   ],
   "source": [
    "# Convert query into a DF\n",
    "tobs = pd.DataFrame(high_tobs, columns=[\"Date\", \"Temp Obs\"])\n",
    "tobs.head()"
   ]
  },
  {
   "cell_type": "code",
   "execution_count": 17,
   "metadata": {},
   "outputs": [
    {
     "data": {
      "image/png": "[encoded data removed]",
      "text/plain": [
       "<matplotlib.figure.Figure at 0x2bfcfd7f208>"
      ]
     },
     "metadata": {},
     "output_type": "display_data"
    }
   ],
   "source": [
    "plt.figure(figsize=(10,8))\n",
    "plt.hist(tobs[\"Temp Obs\"], bins=12)\n",
    "plt.grid(color='grey', linestyle='-', linewidth=2, alpha=.2)\n",
    "plt.ylabel(\"Frequency\")\n",
    "plt.xlabel(\"Temperature (F)\")\n",
    "plt.title(\"Frequency of temperatures over 12 Month Period\")\n",
    "plt.savefig(\"Figures/TempHisto\")\n",
    "plt.show()"
   ]
  },
  {
   "cell_type": "markdown",
   "metadata": {},
   "source": [
    "-- Query 3: Temperature"
   ]
  },
  {
   "cell_type": "code",
   "execution_count": 82,
   "metadata": {},
   "outputs": [],
   "source": [
    "def calc_temp():\n",
    "    SY = input(\"Trip Start, Year: (1991, 2001, ect) \")\n",
    "    SM = input(\"Trip Start, Month: (01 as January, ect) \")\n",
    "    SD = input(\"Trip Start, Day: (01, 02, ect) \")\n",
    "    EY = input(\"Trip End, Year: \")\n",
    "    EM = input(\"Trip End, Month: \")\n",
    "    ED = input(\"Trip End, Day: \")\n",
    "\n",
    "    SY_int = int(SY)\n",
    "    SY_1 = SY_int - 1\n",
    "\n",
    "    EY_int = int(EY)\n",
    "    EY_1 = EY_int - 1\n",
    "\n",
    "    start_date = str(SY_1) + \"-\" + SM + \"-\" + SD\n",
    "    end_date = str(EY_1) + \"-\" + EM + \"-\" + ED\n",
    "\n",
    "    min_temp = session.query(func.min(Measurement.tobs)).filter(Measurement.date >= start_date). \\\n",
    "        filter(Measurement.date <= end_date).all()\n",
    "    max_temp = session.query(func.max(Measurement.tobs)).filter(Measurement.date >= start_date). \\\n",
    "        filter(Measurement.date <= end_date).all()\n",
    "    avg_temp = session.query(func.avg(Measurement.tobs)).filter(Measurement.date >= start_date). \\\n",
    "        filter(Measurement.date <= end_date).all()\n",
    "\n",
    "    delta = int(max_temp[0][0] - min_temp[0][0])\n",
    "    avg_temp = avg_temp[0][0]\n",
    "    avg_temp = round(avg_temp, 2)\n",
    "\n",
    "    chart_frame = pd.DataFrame({'average_temp': [avg_temp]})\n",
    "    chart_frame.head()\n",
    "\n",
    "    chart_frame.plot(kind=\"bar\", figsize = (5,7), yerr=delta)\n",
    "    plt.title(\"Average Temp from Previous Year\")\n",
    "    plt.ylim(0,int(max_temp[0][0] + 20))\n",
    "    plt.ylabel(\"Temperature (F)\")\n",
    "    plt.xticks([])\n",
    "    plt.savefig(\"Figures/YearPrevious\")\n",
    "    plt.show()"
   ]
  },
  {
   "cell_type": "markdown",
   "metadata": {},
   "source": [
    "-- API Testing"
   ]
  },
  {
   "cell_type": "code",
   "execution_count": 83,
   "metadata": {
    "collapsed": true
   },
   "outputs": [],
   "source": [
    "#Start Flask application\n",
    "from flask import Flask, jsonify\n",
    "app = Flask(__name__)"
   ]
  },
  {
   "cell_type": "code",
   "execution_count": null,
   "metadata": {
    "collapsed": true
   },
   "outputs": [],
   "source": [
    "# A quick landing page for links\n",
    "\n",
    "@app.route(\"/\")\n",
    "def links():\n",
    "    return (\n",
    "        \"List of API calls for this website!</br>\"\n",
    "        \"/api.v1.0/precipitation</br>\"\n",
    "        \"/api/v1.0/stations</br>\"\n",
    "        \"/api/v1.0/tobs</br>\"\n",
    "        \"/api/v1.0/'start date as YYYY-MM-DD'</br>\"\n",
    "        \"/api/v1.0/'start date as YYYY-MM-DD'/'end date as YYYY-MM-DD'</br>\"\n",
    "    )\n",
    "\n",
    "if __name__ == '__main__':\n",
    "    app.run(debug=True)"
   ]
  },
  {
   "cell_type": "code",
   "execution_count": null,
   "metadata": {
    "collapsed": true
   },
   "outputs": [],
   "source": [
    "# Returns the previous year's precipitation\n",
    "\n",
    "@app.route(\"/api.v1.0/precipitation\")\n",
    "def precip():\n",
    "    \n",
    "    query = session.query(Measurement.date, func.sum(Measurement.prcp).label(\"prcp\")). \\\n",
    "    group_by(Measurement.date).order_by(Measurement.id.desc()).limit(365).all()\n",
    "\n",
    "    precipitation = []\n",
    "    for rain_drop in query:\n",
    "        drop_top = {}\n",
    "        drop_top[\"Date\"] = rain_drop.date\n",
    "        drop_top[\"Total Precip\"] = rain_drop.prcp\n",
    "        precipitation.append(drop_top)\n",
    "\n",
    "    return jsonify(precipitation)\n",
    "\n",
    "if __name__ == '__main__':\n",
    "    app.run(debug=True)"
   ]
  },
  {
   "cell_type": "code",
   "execution_count": null,
   "metadata": {
    "collapsed": true
   },
   "outputs": [],
   "source": [
    "# Returns the station informations\n",
    "\n",
    "@app.route(\"/api/v1.0/stations\")\n",
    "def stations():\n",
    "\n",
    "    stat = session.query(Station).all()\n",
    "    \n",
    "    station_info = []\n",
    "    for looping in stat:\n",
    "        blank_dict = {}\n",
    "        blank_dict[\"Station\"] = looping.station\n",
    "        blank_dict[\"Name\"] = looping.name\n",
    "        blank_dict[\"Latitude\"] = looping.latitude\n",
    "        blank_dict[\"Longitude\"] = looping.longitude\n",
    "        blank_dict[\"Elevation\"] = looping.elevation\n",
    "        station_info.append(blank_dict)\n",
    "    \n",
    "    return jsonify(station_info)\n",
    "\n",
    "if __name__ == '__main__':\n",
    "    app.run(debug=True)"
   ]
  },
  {
   "cell_type": "code",
   "execution_count": null,
   "metadata": {
    "collapsed": true
   },
   "outputs": [],
   "source": [
    "# Temperature observed information\n",
    "\n",
    "@app.route(\"/api/v1.0/tobs\")\n",
    "def tobs():\n",
    "    \n",
    "    query = session.query(Measurement.station, Measurement.date, Measurement.tobs).filter(Measurement.date >= \"2016-01-01\"). \\\n",
    "        filter(Measurement.date < \"2017-01-01\").all()\n",
    "   \n",
    "    Bring = []\n",
    "    for hot in query:\n",
    "        the_heat = {}\n",
    "        the_heat[\"Station ID\"] = hot.station\n",
    "        the_heat[\"Date\"] = hot.date\n",
    "        the_heat[\"Temp Observed\"] = hot.tobs\n",
    "        Bring.append(the_heat)\n",
    "    \n",
    "    return jsonify(Bring)\n",
    "\n",
    "if __name__ == '__main__':\n",
    "    app.run(debug=True)"
   ]
  },
  {
   "cell_type": "code",
   "execution_count": null,
   "metadata": {
    "collapsed": true
   },
   "outputs": [],
   "source": [
    "# Temperatre fom a start date\n",
    "\n",
    "@app.route(\"/api/v1.0/<start>\")\n",
    "def temps(start='2016-01-01'):\n",
    "    \n",
    "    min_temp = session.query(func.min(Measurement.tobs)).filter(Measurement.date >= start).all()\n",
    "    max_temp = session.query(func.max(Measurement.tobs)).filter(Measurement.date >= start).all()\n",
    "    avg_temp = session.query(func.avg(Measurement.tobs)).filter(Measurement.date >= start).all()\n",
    "    \n",
    "    min_temp_str = str(min_temp[0][0])\n",
    "    max_temp_str = str(max_temp[0][0])\n",
    "    avg_temp_str = str(avg_temp[0][0])\n",
    "    \n",
    "    Temps = [{\n",
    "            'Min Temp': min_temp_str,\n",
    "            'Max Temp': max_temp_str,\n",
    "            'Average Temp': avg_temp_str\n",
    "    }]\n",
    "    \n",
    "    return jsonify(Temps)\n",
    "\n",
    "if __name__ == '__main__':\n",
    "    app.run(debug=True)"
   ]
  },
  {
   "cell_type": "code",
   "execution_count": null,
   "metadata": {
    "collapsed": true
   },
   "outputs": [],
   "source": [
    "# Temperature from a date range\n",
    "\n",
    "@app.route(\"/api/v1.0/<start>/<end>\")\n",
    "def temps(start='', end=''):\n",
    "    \n",
    "    min_temp = session.query(func.min(Measurement.tobs)).filter(Measurement.date >= start).\\\n",
    "            filter(Measurement.date <= end).all()\n",
    "    max_temp = session.query(func.max(Measurement.tobs)).filter(Measurement.date >= start).\\\n",
    "            filter(Measurement.date <= end).all()\n",
    "    avg_temp = session.query(func.avg(Measurement.tobs)).filter(Measurement.date >= start).\\\n",
    "            filter(Measurement.date <= end).all()\n",
    "    \n",
    "    min_temp_str = str(min_temp[0][0])\n",
    "    max_temp_str = str(max_temp[0][0])\n",
    "    avg_temp_str = str(avg_temp[0][0])\n",
    "    \n",
    "    Temps = [{\n",
    "            'Min Temp': min_temp_str,\n",
    "            'Max Temp': max_temp_str,\n",
    "            'Average Temp': avg_temp_str\n",
    "    }]\n",
    "    \n",
    "    return jsonify(Temps)\n",
    "\n",
    "if __name__ == '__main__':\n",
    "    app.run(debug=True)"
   ]
  }
 ],
 "metadata": {
  "kernelspec": {
   "display_name": "Python 3",
   "language": "python",
   "name": "python3"
  },
  "language_info": {
   "codemirror_mode": {
    "name": "ipython",
    "version": 3
   },
   "file_extension": ".py",
   "mimetype": "text/x-python",
   "name": "python",
   "nbconvert_exporter": "python",
   "pygments_lexer": "ipython3",
   "version": "3.6.3"
  }
 },
 "nbformat": 4,
 "nbformat_minor": 2
}
